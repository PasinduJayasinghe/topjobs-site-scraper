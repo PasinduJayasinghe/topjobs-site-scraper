{
  "nbformat": 4,
  "nbformat_minor": 0,
  "metadata": {
    "colab": {
      "provenance": []
    },
    "kernelspec": {
      "name": "python3",
      "display_name": "Python 3"
    },
    "language_info": {
      "name": "python"
    }
  },
  "cells": [
    {
      "cell_type": "code",
      "execution_count": null,
      "metadata": {
        "id": "eX9gZHX4JuLp"
      },
      "outputs": [],
      "source": [
        "from bs4 import BeautifulSoup\n",
        "import requests\n",
        "import pandas as pd"
      ]
    },
    {
      "cell_type": "code",
      "source": [
        "def topjobs_scraper(url) :\n",
        "  page=requests.get(url)\n",
        "  soup=BeautifulSoup(page.text,'html')\n",
        "  table_list=[]\n",
        "  table=soup.find('table',{'class':'tbldata_2 vbfa-table'})\n",
        "  rows=table.find_all('tr')\n",
        "  for row in rows:\n",
        "    table_data=row.findAll('td')\n",
        "    for observation in table_data:\n",
        "      print(observation.text)\n",
        "      table_list.append(observation.text.strip())\n",
        "  return table_list\n"
      ],
      "metadata": {
        "id": "nQ1g_eEG2Bo2"
      },
      "execution_count": null,
      "outputs": []
    },
    {
      "cell_type": "code",
      "source": [
        "data=topjobs_scraper('https://www.topjobs.lk/applicant/vacancybyfunctionalarea.jsp?FA=SDQ')"
      ],
      "metadata": {
        "id": "7Wc1u9uMuqi9"
      },
      "execution_count": null,
      "outputs": []
    },
    {
      "cell_type": "code",
      "source": [
        "df=pd.DataFrame(data)\n",
        "print(df.head())\n",
        "df.to_csv('topjobs_ITjobs.csv')"
      ],
      "metadata": {
        "colab": {
          "base_uri": "https://localhost:8080/"
        },
        "id": "Q0pM9zOhs83A",
        "outputId": "a2d19a81-f92e-464e-8dc8-286cf211b5bd"
      },
      "execution_count": null,
      "outputs": [
        {
          "output_type": "stream",
          "name": "stdout",
          "text": [
            "                                                   0\n",
            "0                                                  1\n",
            "1                                            1148207\n",
            "2  0001148207\\n0000000492\\n0000000375\\nSenior Sof...\n",
            "3            Location- Nawala\\r\\nworking Mode-Hybrid\n",
            "4                                    Wed Nov 08 2023\n"
          ]
        }
      ]
    }
  ]
}